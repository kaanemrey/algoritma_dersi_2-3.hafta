{
 "cells": [
  {
   "cell_type": "code",
   "execution_count": 66,
   "id": "5df5b509-e794-4286-9660-e9db70b30546",
   "metadata": {},
   "outputs": [
    {
     "name": "stdout",
     "output_type": "stream",
     "text": [
      "Öğrenci: Ahmet Yılmaz 22\n"
     ]
    }
   ],
   "source": [
    "class Ogrenci:\n",
    "    def __init__(self, ad, soyad,yas):\n",
    "        self.isim = ad\n",
    "        self.soyisim = soyad\n",
    "        self.yas=yas\n",
    "    def notlama(self, puan):\n",
    "        sonuc = puan * 2\n",
    "        return sonuc  # Çıktıyı döndürmesi için return ekledik\n",
    "\n",
    "class Ogretmen:\n",
    "    def __init__(self, isim, maas):\n",
    "        self.ad = isim\n",
    "        self.__ucret = maas  # Özel değişken\n",
    "\n",
    "    def getzam(self):\n",
    "        return self.__ucret\n",
    "\n",
    "    def setzam(self):\n",
    "        self.__ucret=self.__ucret*2\n",
    "# Ogrenci nesnesi oluşturulurken isim ve soyisim verilmesi gerekiyor\n",
    "ogrenci1 = Ogrenci(\"Ahmet\", \"Yılmaz\",22)\n",
    "print(f\"Öğrenci: {ogrenci1.isim} {ogrenci1.soyisim} {ogrenci1.yas}\")\n",
    "\n",
    "\n"
   ]
  },
  {
   "cell_type": "code",
   "execution_count": 14,
   "id": "54b11509-b69a-4ace-b1ef-e22803bd0dfa",
   "metadata": {},
   "outputs": [
    {
     "name": "stdout",
     "output_type": "stream",
     "text": [
      "Vektör(6,13)\n"
     ]
    }
   ],
   "source": [
    "class Vector:\n",
    "    def __init__(self,a,b):\n",
    "        self.x=a\n",
    "        self.y=b\n",
    "\n",
    "    def __str__(self):\n",
    "        return \"Vektör(%d,%d)\" %(self.x,self.y)\n",
    "\n",
    "    def __add__(self,other):\n",
    "        return Vector(self.x+other.x,self.y+other.y)\n",
    "\n",
    "v1=Vector(2,4)\n",
    "v2=Vector(4,9)\n",
    "print(v1+v2)"
   ]
  },
  {
   "cell_type": "code",
   "execution_count": null,
   "id": "a0d8e05c-760a-47a7-b2a2-600e5ce84418",
   "metadata": {},
   "outputs": [],
   "source": [
    "class Node:\n",
    "    def __init__(self,data):\n",
    "    self.data=data\n",
    "    self.right_child=None\n",
    "    self.left_child=None\n",
    "\n",
    "n1=Node(\"root node\")\n",
    "n2=Node(\"left child\") \n",
    "n3=Node(\"right child node\")\n",
    "n4=Node(\"left grandchild node\")\n",
    "\n",
    "n1.left_child=n2\n",
    "n1.right_child=n3\n",
    "n2.left_child=n4\n"
   ]
  }
 ],
 "metadata": {
  "kernelspec": {
   "display_name": "Python 3 (ipykernel)",
   "language": "python",
   "name": "python3"
  },
  "language_info": {
   "codemirror_mode": {
    "name": "ipython",
    "version": 3
   },
   "file_extension": ".py",
   "mimetype": "text/x-python",
   "name": "python",
   "nbconvert_exporter": "python",
   "pygments_lexer": "ipython3",
   "version": "3.12.4"
  }
 },
 "nbformat": 4,
 "nbformat_minor": 5
}
